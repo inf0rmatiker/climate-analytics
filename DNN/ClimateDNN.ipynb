{
 "cells": [
  {
   "cell_type": "code",
   "execution_count": 1,
   "id": "eb2498ec",
   "metadata": {
    "ExecuteTime": {
     "end_time": "2021-09-24T17:36:49.808776Z",
     "start_time": "2021-09-24T17:36:47.078490Z"
    }
   },
   "outputs": [
    {
     "name": "stdout",
     "output_type": "stream",
     "text": [
      "2.6.2\n",
      "Num GPUs Available:  1\n"
     ]
    }
   ],
   "source": [
    "import os\n",
    "os.environ['CUDA_VISIBLE_DEVICES'] = '1'\n",
    "\n",
    "import tensorflow as tf\n",
    "import keras_tuner as kt\n",
    "from tensorflow import keras\n",
    "\n",
    "print(tf. __version__) \n",
    "print(\"Num GPUs Available: \", len(tf.config.list_physical_devices('GPU')))\n",
    "\n",
    "import matplotlib.pyplot as plt\n",
    "import numpy as np\n",
    "import pandas as pd\n",
    "from sklearn.model_selection import train_test_split"
   ]
  },
  {
   "cell_type": "markdown",
   "id": "b9a3d43a",
   "metadata": {},
   "source": [
    "## Processing Data"
   ]
  },
  {
   "cell_type": "code",
   "execution_count": 2,
   "id": "182a2db3",
   "metadata": {},
   "outputs": [],
   "source": [
    "def get_features_and_target(csv_file):\n",
    "    df = pd.read_csv(f'../datasets/csu-weather-data/colorado/2020-2021/{csv_file}')\n",
    "    df.drop(['date'], axis=1, inplace=True)\n",
    "    columns = ['max_temperature', 'min_temperature', 'precipitation', 'snowfall']\n",
    "\n",
    "    features = df[['max_temperature', 'min_temperature', 'precipitation']].values\n",
    "    target = df['snowfall'].values.reshape(-1, 1)\n",
    "    target\n",
    "\n",
    "    assert features.shape[0] == target.shape[0]\n",
    "    assert target.shape[1] == 1\n",
    "\n",
    "    return features.astype('float64'), target.astype('float64')\n"
   ]
  },
  {
   "cell_type": "code",
   "execution_count": 3,
   "id": "f78dd08c",
   "metadata": {},
   "outputs": [],
   "source": [
    "def split_train_test_val(X, T):\n",
    "    \n",
    "    \n",
    "    # Calculate standardization for cut_off\n",
    "    t_means = np.mean(T, axis=0)\n",
    "    t_stds = np.std(T, axis=0)\n",
    "    t_stds[t_stds == 0] = 1\n",
    "    \n",
    "    cut_off = t_stds * 3\n",
    "    lower, upper = t_means - cut_off, t_means + cut_off\n",
    "    \n",
    "    # outliers\n",
    "    outliers_index = [i for i in range(T.size) if T[i] < lower or T[i] > upper]\n",
    "    T = np.delete(T, outliers_index).reshape(-1,1)\n",
    "    X = np.delete(X, outliers_index, axis=0).reshape(-1,3)\n",
    "\n",
    "    \n",
    "    # Now standardize\n",
    "    x_means = np.mean(X, axis=0)\n",
    "    x_stds = np.std(X , axis=0)\n",
    "    x_stds[x_stds == 0] = 1\n",
    "    \n",
    "    t_means = np.mean(T, axis=0)\n",
    "    t_stds = np.std(T, axis=0)\n",
    "    t_stds[t_stds == 0] = 1\n",
    "\n",
    "    X = (X - x_means) / x_stds\n",
    "    T = (T - t_means) / t_stds\n",
    "    \n",
    "    x_train, x_test, t_train, t_test = train_test_split(X, T, test_size=0.20, random_state=42)\n",
    "\n",
    "    assert x_train.shape[0] == t_train.shape[0]\n",
    "    assert x_test.shape[0] == t_test.shape[0]\n",
    "\n",
    "    return [x_train, x_test], [t_train, t_test]"
   ]
  },
  {
   "cell_type": "markdown",
   "id": "e8f1ccbe",
   "metadata": {},
   "source": [
    "## Model Building"
   ]
  },
  {
   "cell_type": "code",
   "execution_count": 4,
   "id": "a745e372",
   "metadata": {},
   "outputs": [],
   "source": [
    "def model_builder(hp):\n",
    "    model = keras.Sequential()\n",
    "    model.add(keras.layers.Input(shape=(3, )))\n",
    "    \n",
    "    # Tune the number of units in the first Dense layer\n",
    "    hp_units = hp.Int('units', min_value=2, max_value=128, step=2)\n",
    "    \n",
    "#     kernel_regularizer=tf.keras.regularizers.l2(0.001), \n",
    "    \n",
    "    model.add(keras.layers.Dense(units=hp_units, \n",
    "                                 \n",
    "                                 activation='relu'))\n",
    "#     model.add(tf.keras.layers.Dropout(0.5))\n",
    "    model.add(keras.layers.Dense(units=hp_units, \n",
    "                                  \n",
    "                                 activation='relu'))\n",
    "#     model.add(tf.keras.layers.Dropout(0.5))\n",
    "    model.add(keras.layers.Dense(1))\n",
    "    \n",
    "    # Tune the learning rate for the optimizer\n",
    "    # Choose an optimal value from 0.01, 0.001, or 0.0001\n",
    "    hp_learning_rate = hp.Choice('learning_rate', values=[1e-2, 1e-3, 5e-2, 5e-3])\n",
    "    \n",
    "              \n",
    "    model.compile(optimizer=keras.optimizers.Adam(learning_rate=hp_learning_rate),\n",
    "                loss='mse',\n",
    "                metrics=['mse'])\n",
    "    return model"
   ]
  },
  {
   "cell_type": "code",
   "execution_count": 5,
   "id": "32e67563",
   "metadata": {},
   "outputs": [],
   "source": [
    "def run_model_search(county):\n",
    " \n",
    "    features, target = get_features_and_target(county)\n",
    "    X, T = split_train_test_val(features, target)\n",
    "  \n",
    "    x_train, x_test = X\n",
    "    t_train, t_test = T\n",
    "    \n",
    "    batch_size=512\n",
    "    epochs=200\n",
    "    \n",
    "    tuner = kt.Hyperband(\n",
    "        model_builder,\n",
    "        objective='val_loss',\n",
    "        max_epochs=50,\n",
    "        factor=3,\n",
    "        directory='SnowPredictions',\n",
    "        project_name=county)\n",
    "    \n",
    "    \n",
    "    stop_early = tf.keras.callbacks.EarlyStopping(monitor='val_loss', mode='min', patience=10)\n",
    "    tuner.search(x_train, t_train, batch_size=batch_size, epochs=epochs, validation_split=0.2)\n",
    "    \n",
    "    # Get the optimal hyperparameters\n",
    "    best_hps=tuner.get_best_hyperparameters(num_trials=1)[0]\n",
    "    \n",
    "    \n",
    "    # Build the model with the optimal hyperparameters\n",
    "    model = tuner.hypermodel.build(best_hps)\n",
    "    model.fit(x_train, t_train, batch_size=batch_size, epochs=epochs, validation_split=0.2, callbacks=[stop_early])\n",
    "    \n",
    "    hypermodel = tuner.hypermodel.build(best_hps)\n",
    "    \n",
    "    # Retrain the model\n",
    "    history = hypermodel.fit(x_train, t_train, batch_size=batch_size, epochs=epochs, validation_split=0.2, callbacks=[stop_early])\n",
    "    history.history['county'] = county\n",
    "    \n",
    "    eval_result = hypermodel.evaluate(x_test, t_test)\n",
    "    print(\"[test loss, test mse]:\", eval_result)\n",
    "    \n",
    "    return hypermodel, history"
   ]
  },
  {
   "cell_type": "markdown",
   "id": "ebc1b2d3",
   "metadata": {},
   "source": [
    "## Graph Loss"
   ]
  },
  {
   "cell_type": "code",
   "execution_count": 6,
   "id": "de144264",
   "metadata": {},
   "outputs": [],
   "source": [
    "def graph_loss(model_history):\n",
    "\n",
    "    history = model_history.history\n",
    "    \n",
    "    county = history['county']\n",
    "    county = county[:county.index('.')]\n",
    "    train_loss = history['loss']\n",
    "    val_loss = history['val_loss']\n",
    "\n",
    "    epochs = range(1, len(train_loss) + 1)\n",
    "\n",
    "    plt.plot(train_loss, '-b', label='Training loss')\n",
    "    plt.plot(val_loss, '-', color='orange', label='Validation loss')\n",
    "    plt.title(f\"{county}'s Training and Validation Loss\")\n",
    "    plt.xlabel('Epochs')\n",
    "    plt.ylabel('Loss')\n",
    "    plt.legend()\n",
    "\n",
    "    plt.savefig(f'SnowLossGraphs/{county}', bbox_inches='tight')\n",
    "    plt.close()"
   ]
  },
  {
   "cell_type": "markdown",
   "id": "2df55dc8",
   "metadata": {},
   "source": [
    "## Running Experiment"
   ]
  },
  {
   "cell_type": "code",
   "execution_count": 7,
   "id": "8000036e",
   "metadata": {
    "scrolled": false
   },
   "outputs": [
    {
     "data": {
      "text/plain": [
       "['park-bailey.csv',\n",
       " 'fremont-canon-city.csv',\n",
       " 'jackson-walden.csv',\n",
       " 'grand-grand-lake-6-ssw.csv',\n",
       " 'larimer-hourglass-reservoir.csv',\n",
       " 'larimer-fort-collins.csv',\n",
       " 'boulder-gross-reservoir.csv',\n",
       " 'larimer-rustic-9.csv']"
      ]
     },
     "execution_count": 7,
     "metadata": {},
     "output_type": "execute_result"
    }
   ],
   "source": [
    "from os import listdir\n",
    "from os.path import isfile, join\n",
    "counties_path = '../datasets/csu-weather-data/colorado/2020-2021/'\n",
    "colorado_counties = [f for f in listdir(counties_path) if isfile(join(counties_path, f))]\n",
    "colorado_counties"
   ]
  },
  {
   "cell_type": "markdown",
   "id": "926e4f61",
   "metadata": {},
   "source": [
    "## All Models and History For All Counties"
   ]
  },
  {
   "cell_type": "code",
   "execution_count": 8,
   "id": "66f593b0",
   "metadata": {
    "scrolled": true
   },
   "outputs": [
    {
     "name": "stdout",
     "output_type": "stream",
     "text": [
      "Trial 90 Complete [00h 00m 01s]\n",
      "val_loss: 0.13897427916526794\n",
      "\n",
      "Best val_loss So Far: 0.13157466053962708\n",
      "Total elapsed time: 00h 00m 51s\n",
      "INFO:tensorflow:Oracle triggered exit\n",
      "Epoch 1/200\n",
      "1/1 [==============================] - 0s 233ms/step - loss: 1.0649 - mse: 1.0649 - val_loss: 0.5606 - val_mse: 0.5606\n",
      "Epoch 2/200\n",
      "1/1 [==============================] - 0s 18ms/step - loss: 0.7942 - mse: 0.7942 - val_loss: 0.3874 - val_mse: 0.3874\n",
      "Epoch 3/200\n",
      "1/1 [==============================] - 0s 15ms/step - loss: 0.7032 - mse: 0.7032 - val_loss: 0.2855 - val_mse: 0.2855\n"
     ]
    },
    {
     "name": "stderr",
     "output_type": "stream",
     "text": [
      "2021-12-01 13:46:57.656148: I tensorflow/core/grappler/optimizers/custom_graph_optimizer_registry.cc:112] Plugin optimizer for device_type GPU is enabled.\n",
      "2021-12-01 13:46:57.788875: I tensorflow/core/grappler/optimizers/custom_graph_optimizer_registry.cc:112] Plugin optimizer for device_type GPU is enabled.\n"
     ]
    },
    {
     "name": "stdout",
     "output_type": "stream",
     "text": [
      "Epoch 4/200\n",
      "1/1 [==============================] - 0s 20ms/step - loss: 0.5968 - mse: 0.5968 - val_loss: 0.2258 - val_mse: 0.2258\n",
      "Epoch 5/200\n",
      "1/1 [==============================] - 0s 17ms/step - loss: 0.4935 - mse: 0.4935 - val_loss: 0.1973 - val_mse: 0.1973\n",
      "Epoch 6/200\n",
      "1/1 [==============================] - 0s 16ms/step - loss: 0.4290 - mse: 0.4290 - val_loss: 0.1800 - val_mse: 0.1800\n",
      "Epoch 7/200\n",
      "1/1 [==============================] - 0s 15ms/step - loss: 0.4029 - mse: 0.4029 - val_loss: 0.1861 - val_mse: 0.1861\n",
      "Epoch 8/200\n",
      "1/1 [==============================] - 0s 18ms/step - loss: 0.3872 - mse: 0.3872 - val_loss: 0.1933 - val_mse: 0.1933\n",
      "Epoch 9/200\n",
      "1/1 [==============================] - 0s 14ms/step - loss: 0.3713 - mse: 0.3713 - val_loss: 0.2248 - val_mse: 0.2248\n",
      "Epoch 10/200\n",
      "1/1 [==============================] - 0s 15ms/step - loss: 0.3695 - mse: 0.3695 - val_loss: 0.2256 - val_mse: 0.2256\n",
      "Epoch 11/200\n",
      "1/1 [==============================] - 0s 18ms/step - loss: 0.3585 - mse: 0.3585 - val_loss: 0.1986 - val_mse: 0.1986\n",
      "Epoch 12/200\n",
      "1/1 [==============================] - 0s 14ms/step - loss: 0.3396 - mse: 0.3396 - val_loss: 0.1893 - val_mse: 0.1893\n",
      "Epoch 13/200\n",
      "1/1 [==============================] - 0s 13ms/step - loss: 0.3363 - mse: 0.3363 - val_loss: 0.1723 - val_mse: 0.1723\n",
      "Epoch 14/200\n",
      "1/1 [==============================] - 0s 15ms/step - loss: 0.3320 - mse: 0.3320 - val_loss: 0.1501 - val_mse: 0.1501\n",
      "Epoch 15/200\n",
      "1/1 [==============================] - 0s 15ms/step - loss: 0.3229 - mse: 0.3229 - val_loss: 0.1520 - val_mse: 0.1520\n",
      "Epoch 16/200\n",
      "1/1 [==============================] - 0s 14ms/step - loss: 0.3244 - mse: 0.3244 - val_loss: 0.1377 - val_mse: 0.1377\n",
      "Epoch 17/200\n",
      "1/1 [==============================] - 0s 14ms/step - loss: 0.3146 - mse: 0.3146 - val_loss: 0.1391 - val_mse: 0.1391\n",
      "Epoch 18/200\n",
      "1/1 [==============================] - 0s 13ms/step - loss: 0.3081 - mse: 0.3081 - val_loss: 0.1624 - val_mse: 0.1624\n",
      "Epoch 19/200\n",
      "1/1 [==============================] - 0s 15ms/step - loss: 0.3058 - mse: 0.3058 - val_loss: 0.1668 - val_mse: 0.1668\n",
      "Epoch 20/200\n",
      "1/1 [==============================] - 0s 15ms/step - loss: 0.2990 - mse: 0.2990 - val_loss: 0.1815 - val_mse: 0.1815\n",
      "Epoch 21/200\n",
      "1/1 [==============================] - 0s 14ms/step - loss: 0.3002 - mse: 0.3002 - val_loss: 0.2059 - val_mse: 0.2059\n",
      "Epoch 22/200\n",
      "1/1 [==============================] - 0s 16ms/step - loss: 0.2972 - mse: 0.2972 - val_loss: 0.1994 - val_mse: 0.1994\n",
      "Epoch 23/200\n",
      "1/1 [==============================] - 0s 14ms/step - loss: 0.2914 - mse: 0.2914 - val_loss: 0.1951 - val_mse: 0.1951\n",
      "Epoch 24/200\n",
      "1/1 [==============================] - 0s 14ms/step - loss: 0.2908 - mse: 0.2908 - val_loss: 0.2051 - val_mse: 0.2051\n",
      "Epoch 25/200\n",
      "1/1 [==============================] - 0s 14ms/step - loss: 0.2848 - mse: 0.2848 - val_loss: 0.1977 - val_mse: 0.1977\n",
      "Epoch 26/200\n",
      "1/1 [==============================] - 0s 14ms/step - loss: 0.2790 - mse: 0.2790 - val_loss: 0.1881 - val_mse: 0.1881\n",
      "Epoch 1/200\n",
      "1/1 [==============================] - 0s 223ms/step - loss: 1.0060 - mse: 1.0060 - val_loss: 0.4931 - val_mse: 0.4931\n",
      "Epoch 2/200\n",
      "1/1 [==============================] - 0s 19ms/step - loss: 0.7067 - mse: 0.7067 - val_loss: 0.3548 - val_mse: 0.3548\n",
      "Epoch 3/200\n",
      "1/1 [==============================] - 0s 23ms/step - loss: 0.6143 - mse: 0.6143 - val_loss: 0.2499 - val_mse: 0.2499\n"
     ]
    },
    {
     "name": "stderr",
     "output_type": "stream",
     "text": [
      "2021-12-01 13:46:58.411295: I tensorflow/core/grappler/optimizers/custom_graph_optimizer_registry.cc:112] Plugin optimizer for device_type GPU is enabled.\n",
      "2021-12-01 13:46:58.522385: I tensorflow/core/grappler/optimizers/custom_graph_optimizer_registry.cc:112] Plugin optimizer for device_type GPU is enabled.\n"
     ]
    },
    {
     "name": "stdout",
     "output_type": "stream",
     "text": [
      "Epoch 4/200\n",
      "1/1 [==============================] - 0s 16ms/step - loss: 0.5081 - mse: 0.5081 - val_loss: 0.2001 - val_mse: 0.2001\n",
      "Epoch 5/200\n",
      "1/1 [==============================] - 0s 14ms/step - loss: 0.4284 - mse: 0.4284 - val_loss: 0.2018 - val_mse: 0.2018\n",
      "Epoch 6/200\n",
      "1/1 [==============================] - 0s 14ms/step - loss: 0.3844 - mse: 0.3844 - val_loss: 0.2118 - val_mse: 0.2118\n",
      "Epoch 7/200\n",
      "1/1 [==============================] - 0s 18ms/step - loss: 0.3698 - mse: 0.3698 - val_loss: 0.2465 - val_mse: 0.2465\n",
      "Epoch 8/200\n",
      "1/1 [==============================] - 0s 15ms/step - loss: 0.3693 - mse: 0.3693 - val_loss: 0.2445 - val_mse: 0.2445\n",
      "Epoch 9/200\n",
      "1/1 [==============================] - 0s 14ms/step - loss: 0.3636 - mse: 0.3636 - val_loss: 0.2372 - val_mse: 0.2372\n",
      "Epoch 10/200\n",
      "1/1 [==============================] - 0s 16ms/step - loss: 0.3540 - mse: 0.3540 - val_loss: 0.2122 - val_mse: 0.2122\n",
      "Epoch 11/200\n",
      "1/1 [==============================] - 0s 14ms/step - loss: 0.3400 - mse: 0.3400 - val_loss: 0.1822 - val_mse: 0.1822\n",
      "Epoch 12/200\n",
      "1/1 [==============================] - 0s 16ms/step - loss: 0.3259 - mse: 0.3259 - val_loss: 0.1604 - val_mse: 0.1604\n",
      "Epoch 13/200\n",
      "1/1 [==============================] - 0s 17ms/step - loss: 0.3165 - mse: 0.3165 - val_loss: 0.1450 - val_mse: 0.1450\n",
      "Epoch 14/200\n",
      "1/1 [==============================] - 0s 15ms/step - loss: 0.3118 - mse: 0.3118 - val_loss: 0.1488 - val_mse: 0.1488\n",
      "Epoch 15/200\n",
      "1/1 [==============================] - 0s 13ms/step - loss: 0.3108 - mse: 0.3108 - val_loss: 0.1629 - val_mse: 0.1629\n",
      "Epoch 16/200\n",
      "1/1 [==============================] - 0s 14ms/step - loss: 0.3098 - mse: 0.3098 - val_loss: 0.1679 - val_mse: 0.1679\n",
      "Epoch 17/200\n",
      "1/1 [==============================] - 0s 16ms/step - loss: 0.3043 - mse: 0.3043 - val_loss: 0.1825 - val_mse: 0.1825\n",
      "Epoch 18/200\n",
      "1/1 [==============================] - 0s 14ms/step - loss: 0.2981 - mse: 0.2981 - val_loss: 0.1999 - val_mse: 0.1999\n",
      "Epoch 19/200\n",
      "1/1 [==============================] - 0s 14ms/step - loss: 0.2916 - mse: 0.2916 - val_loss: 0.2002 - val_mse: 0.2002\n",
      "Epoch 20/200\n",
      "1/1 [==============================] - 0s 14ms/step - loss: 0.2868 - mse: 0.2868 - val_loss: 0.2087 - val_mse: 0.2087\n",
      "Epoch 21/200\n",
      "1/1 [==============================] - 0s 15ms/step - loss: 0.2823 - mse: 0.2823 - val_loss: 0.1949 - val_mse: 0.1949\n",
      "Epoch 22/200\n",
      "1/1 [==============================] - 0s 14ms/step - loss: 0.2799 - mse: 0.2799 - val_loss: 0.2026 - val_mse: 0.2026\n",
      "Epoch 23/200\n",
      "1/1 [==============================] - 0s 14ms/step - loss: 0.2773 - mse: 0.2773 - val_loss: 0.2054 - val_mse: 0.2054\n",
      "5/5 [==============================] - 0s 6ms/step - loss: 0.5643 - mse: 0.5643\n",
      "[test loss, test mse]: [0.5642720460891724, 0.5642720460891724]\n"
     ]
    }
   ],
   "source": [
    "colorado_county_models = []\n",
    "colorado_county_model_histories = []\n",
    "\n",
    "for county in colorado_counties:\n",
    "    model, history = run_model_search(county)\n",
    "    graph_loss(history)\n",
    "    colorado_county_models.append(model)\n",
    "    colorado_county_model_histories.append(history)"
   ]
  },
  {
   "cell_type": "code",
   "execution_count": 9,
   "id": "bb566d7f",
   "metadata": {},
   "outputs": [
    {
     "name": "stdout",
     "output_type": "stream",
     "text": [
      "Model: \"sequential\"\n",
      "_________________________________________________________________\n",
      "Layer (type)                 Output Shape              Param #   \n",
      "=================================================================\n",
      "dense (Dense)                (None, 74)                296       \n",
      "_________________________________________________________________\n",
      "dense_1 (Dense)              (None, 74)                5550      \n",
      "_________________________________________________________________\n",
      "dense_2 (Dense)              (None, 1)                 75        \n",
      "=================================================================\n",
      "Total params: 5,921\n",
      "Trainable params: 5,921\n",
      "Non-trainable params: 0\n",
      "_________________________________________________________________\n"
     ]
    }
   ],
   "source": [
    "colorado_county_models[0].summary()"
   ]
  },
  {
   "cell_type": "markdown",
   "id": "c2385303",
   "metadata": {},
   "source": [
    "<br />\n",
    "<br />\n",
    "<br />"
   ]
  },
  {
   "cell_type": "code",
   "execution_count": null,
   "id": "3ad8ba99",
   "metadata": {},
   "outputs": [],
   "source": []
  }
 ],
 "metadata": {
  "interpreter": {
   "hash": "48f8cb2c04e123a5f36026e83ef04ba8d8cb2e5b8983b92be00cf5b9b6813ba1"
  },
  "kernelspec": {
   "display_name": "Python 3 (ipykernel)",
   "language": "python",
   "name": "python3"
  },
  "language_info": {
   "codemirror_mode": {
    "name": "ipython",
    "version": 3
   },
   "file_extension": ".py",
   "mimetype": "text/x-python",
   "name": "python",
   "nbconvert_exporter": "python",
   "pygments_lexer": "ipython3",
   "version": "3.9.7"
  },
  "varInspector": {
   "cols": {
    "lenName": 16,
    "lenType": 16,
    "lenVar": 40
   },
   "kernels_config": {
    "python": {
     "delete_cmd_postfix": "",
     "delete_cmd_prefix": "del ",
     "library": "var_list.py",
     "varRefreshCmd": "print(var_dic_list())"
    },
    "r": {
     "delete_cmd_postfix": ") ",
     "delete_cmd_prefix": "rm(",
     "library": "var_list.r",
     "varRefreshCmd": "cat(var_dic_list()) "
    }
   },
   "types_to_exclude": [
    "module",
    "function",
    "builtin_function_or_method",
    "instance",
    "_Feature"
   ],
   "window_display": false
  }
 },
 "nbformat": 4,
 "nbformat_minor": 5
}
