{
 "cells": [
  {
   "cell_type": "code",
   "execution_count": 1,
   "id": "eb2498ec",
   "metadata": {
    "ExecuteTime": {
     "end_time": "2021-09-24T17:36:49.808776Z",
     "start_time": "2021-09-24T17:36:47.078490Z"
    }
   },
   "outputs": [
    {
     "name": "stdout",
     "output_type": "stream",
     "text": [
      "2.6.2\n",
      "Num GPUs Available:  1\n"
     ]
    }
   ],
   "source": [
    "import os\n",
    "os.environ['CUDA_VISIBLE_DEVICES'] = '1'\n",
    "\n",
    "import tensorflow as tf\n",
    "import keras_tuner as kt\n",
    "from tensorflow import keras\n",
    "\n",
    "print(tf. __version__) \n",
    "print(\"Num GPUs Available: \", len(tf.config.list_physical_devices('GPU')))\n",
    "\n",
    "import matplotlib.pyplot as plt\n",
    "import numpy as np\n",
    "import pandas as pd\n",
    "from sklearn.model_selection import train_test_split"
   ]
  },
  {
   "cell_type": "markdown",
   "id": "b9a3d43a",
   "metadata": {},
   "source": [
    "## Processing Data"
   ]
  },
  {
   "cell_type": "code",
   "execution_count": 2,
   "id": "71f0bf96",
   "metadata": {},
   "outputs": [],
   "source": [
    "def get_features_and_target(csv_file):\n",
    "    df = pd.read_csv(f'../spark_output/colorado/{csv_file}')\n",
    "    df.drop(['year_month_day'], axis=1, inplace=True)\n",
    "\n",
    "    features = df.iloc[:, 1:-1].values\n",
    "    target = df.iloc[:, 0].values.reshape(-1,1)\n",
    "\n",
    "    assert features.shape[0] == target.shape[0]\n",
    "    assert target.shape[1] == 1\n",
    "\n",
    "    return features.astype('float64'), target.astype('float64')\n"
   ]
  },
  {
   "cell_type": "code",
   "execution_count": 3,
   "id": "f78dd08c",
   "metadata": {},
   "outputs": [],
   "source": [
    "def split_train_test_val(X, T):\n",
    "    \n",
    "    \n",
    "    # Calculate standardization parameters \n",
    "    x_means = np.mean(X, axis=0)\n",
    "    x_stds = np.std(X , axis=0)\n",
    "    x_stds[x_stds == 0] = 1\n",
    "    \n",
    "    t_means = np.mean(T, axis=0)\n",
    "    t_stds = np.std(T, axis=0)\n",
    "    t_stds[t_stds == 0] = 1\n",
    "    \n",
    "    X = (X - x_means) / x_stds\n",
    "    T = (T - t_means) / t_stds\n",
    "    \n",
    "    x_train, x_test, t_train, t_test = train_test_split(X, T, test_size=0.20, random_state=42)\n",
    "\n",
    "    # 0.25 x 0.8 = 0.2\n",
    "    x_train, x_validate, t_train, t_validate = train_test_split(x_train, t_train, test_size=0.25, random_state=42)\n",
    "\n",
    "    assert x_train.shape[0] == t_train.shape[0]\n",
    "    assert x_test.shape[0] == t_test.shape[0]\n",
    "    assert x_validate.shape[0] == t_validate.shape[0]\n",
    "\n",
    "    return [x_train, x_test, x_validate], [t_train, t_test, t_validate]"
   ]
  },
  {
   "cell_type": "markdown",
   "id": "e8f1ccbe",
   "metadata": {},
   "source": [
    "## Model Building"
   ]
  },
  {
   "cell_type": "code",
   "execution_count": 12,
   "id": "3e3bab22",
   "metadata": {},
   "outputs": [],
   "source": [
    "def old_build_model(layers, input_shape, dropout):    \n",
    "\n",
    "    model_layers = [tf.keras.layers.Dense(layers[0], activation='relu', input_shape=input_shape)]\n",
    "    \n",
    "    for curr_layer in layers[1:]:\n",
    "        model_layers.append(tf.keras.layers.Dense(curr_layer, activation='relu'))\n",
    "        if dropout:\n",
    "            model_layers.append(tf.keras.layers.Dropout(0.2))\n",
    "\n",
    "\n",
    "    model_layers.append(tf.keras.layers.Dense(1))\n",
    "\n",
    "    return tf.keras.models.Sequential(model_layers)"
   ]
  },
  {
   "cell_type": "code",
   "execution_count": null,
   "id": "b995a359",
   "metadata": {},
   "outputs": [],
   "source": [
    "def build_model(hp):\n",
    "    model = keras.Sequential()\n",
    "    model.add(keras.layers.Dense(\n",
    "        hp.Choice('units', [8, 16, 32]),\n",
    "        activation='relu'))\n",
    "    model.add(keras.layers.Dense(1, activation='relu'))\n",
    "    model.compile(loss='mae')\n",
    "    return model"
   ]
  },
  {
   "cell_type": "code",
   "execution_count": null,
   "id": "430a1367",
   "metadata": {},
   "outputs": [],
   "source": [
    "def run_model_search(county, hidden_layers, learning_rate=0.01, epochs=100, batch_size=64, dropout=False):\n",
    " \n",
    "    features, target = get_features_and_target(county)\n",
    "    X, T = split_train_test_val(features, target)\n",
    "  \n",
    "    x_train, x_test, x_validate = X\n",
    "    t_train, t_test, t_validate = T\n",
    "    \n",
    "    \n",
    "    tuner = kt.RandomSearch(\n",
    "        build_model,\n",
    "        objective='val _loss',\n",
    "        max_trial=5)\n",
    "    \n",
    "    tuner.search(x_train, t_train, epochs=5, validation_data=(x_validate, t_validate))\n",
    "    best_model = tuner.get_best_models()[0]\n",
    "    b\n",
    "    return best_model"
   ]
  },
  {
   "cell_type": "code",
   "execution_count": 8,
   "id": "1ec0565e",
   "metadata": {},
   "outputs": [],
   "source": [
    "from IPython.display import clear_output\n",
    "def run_deep_learning(county, hidden_layers, learning_rate=0.01, epochs=100, batch_size=64, dropout=False):\n",
    " \n",
    "    features, target = get_features_and_target(county)\n",
    "    X, T = split_train_test_val(features, target)\n",
    "  \n",
    "    x_train, x_test, x_validate = X\n",
    "    t_train, t_test, t_validate = T\n",
    "    \n",
    "    input_shape = (x_train.shape[1], )\n",
    "    loss_function = 'mae'\n",
    "\n",
    "    model = build_model(hidden_layers, input_shape=input_shape ,dropout=dropout)\n",
    "    model.summary()\n",
    "    model.compile(optimizer=tf.optimizers.Adam(learning_rate=learning_rate), loss=loss_function, metrics=['accuracy'])\n",
    "    \n",
    "    tuner = kt.RandomSearch\n",
    "    \n",
    "    \n",
    "    history = model.fit(x_train, t_train, epochs=epochs, batch_size=batch_size, validation_data=(x_validate, t_validate))\n",
    "    history.history['county'] = county\n",
    "    \n",
    "    clear_output(wait=True)\n",
    "    model.evaluate(x_test, t_test)\n",
    "    \n",
    "    return history, model"
   ]
  },
  {
   "cell_type": "markdown",
   "id": "ebc1b2d3",
   "metadata": {},
   "source": [
    "## Display Results"
   ]
  },
  {
   "cell_type": "code",
   "execution_count": 9,
   "id": "de144264",
   "metadata": {},
   "outputs": [],
   "source": [
    "def display_loss(model_history):\n",
    "\n",
    "    for curr_history in model_history:\n",
    "        county = curr_history.history['county']\n",
    "        train_loss = curr_history.history['loss']\n",
    "        val_loss = curr_history.history['val_loss']\n",
    "\n",
    "        epochs = range(1, len(train_loss) + 1)\n",
    "\n",
    "        plt.plot(train_loss, '-b', label='Training loss')\n",
    "        plt.plot(val_loss, '-g', label='Validation loss')\n",
    "        plt.title(f\"{county}'s Training and Validation Loss\")\n",
    "        plt.xlabel('Epochs')\n",
    "        plt.ylabel('Loss')\n",
    "        plt.legend()\n",
    "        plt.show()"
   ]
  },
  {
   "cell_type": "code",
   "execution_count": 10,
   "id": "42fa6335",
   "metadata": {},
   "outputs": [],
   "source": [
    "def display_accuracy(model_history):\n",
    "    \n",
    "    for curr_history in model_history:\n",
    "        plt.clf()\n",
    "        county = curr_history.history['county']\n",
    "        train_acc = curr_history.history['accuracy']\n",
    "        val_acc = curr_history.history['val_accuracy']\n",
    "        \n",
    "\n",
    "        plt.plot(train_acc, 'b.', label='Training Accuracy')\n",
    "        plt.plot(val_acc, 'g.', label='Validation Accuracy')\n",
    "        plt.title(f\"{county}'s Training and Validation Accuracy\")\n",
    "        plt.xlabel('Epochs')\n",
    "        plt.ylabel('ACC')\n",
    "        plt.legend()\n",
    "        plt.show()"
   ]
  },
  {
   "cell_type": "markdown",
   "id": "2df55dc8",
   "metadata": {},
   "source": [
    "## Running Experiment"
   ]
  },
  {
   "cell_type": "code",
   "execution_count": 11,
   "id": "2241b1a8",
   "metadata": {},
   "outputs": [],
   "source": [
    "gunnison = \"G0800510.csv\"\n",
    "fremont = \"G0800430.csv\""
   ]
  },
  {
   "cell_type": "markdown",
   "id": "30e64145",
   "metadata": {},
   "source": [
    "### Gunnison"
   ]
  },
  {
   "cell_type": "code",
   "execution_count": 304,
   "id": "e94a1fd7",
   "metadata": {},
   "outputs": [
    {
     "name": "stdout",
     "output_type": "stream",
     "text": [
      "2/2 [==============================] - 0s 14ms/step - loss: 0.1020 - accuracy: 0.0000e+00\n"
     ]
    }
   ],
   "source": [
    "gunnison_history, gunnison_model = run_deep_learning(gunnison, [50, 50, 50, 50], learning_rate=0.001)"
   ]
  },
  {
   "cell_type": "code",
   "execution_count": 305,
   "id": "7196396f",
   "metadata": {
    "scrolled": true
   },
   "outputs": [
    {
     "data": {
      "image/png": "[encoded data removed]",
      "text/plain": [
       "<Figure size 432x288 with 1 Axes>"
      ]
     },
     "metadata": {
      "needs_background": "light"
     },
     "output_type": "display_data"
    },
    {
     "data": {
      "image/png": "[encoded data removed]",
      "text/plain": [
       "<Figure size 432x288 with 1 Axes>"
      ]
     },
     "metadata": {
      "needs_background": "light"
     },
     "output_type": "display_data"
    }
   ],
   "source": [
    "display_loss([gunnison_history]); display_accuracy([gunnison_history])"
   ]
  },
  {
   "cell_type": "markdown",
   "id": "7acd06bf",
   "metadata": {},
   "source": [
    "### Fremont"
   ]
  },
  {
   "cell_type": "code",
   "execution_count": 339,
   "id": "bd627b26",
   "metadata": {},
   "outputs": [
    {
     "name": "stdout",
     "output_type": "stream",
     "text": [
      "2/2 [==============================] - 0s 13ms/step - loss: 0.2545 - accuracy: 0.0000e+00\n"
     ]
    }
   ],
   "source": [
    "fremont_history, fremont_model = run_deep_learning(fremont, [50, 50, 50], batch_size=512, learning_rate=0.005, dropout=True)\n",
    "\n"
   ]
  },
  {
   "cell_type": "code",
   "execution_count": 338,
   "id": "69dd1543",
   "metadata": {},
   "outputs": [
    {
     "data": {
      "image/png": "[encoded data removed]",
      "text/plain": [
       "<Figure size 432x288 with 1 Axes>"
      ]
     },
     "metadata": {
      "needs_background": "light"
     },
     "output_type": "display_data"
    },
    {
     "data": {
      "image/png": "[encoded data removed]",
      "text/plain": [
       "<Figure size 432x288 with 1 Axes>"
      ]
     },
     "metadata": {
      "needs_background": "light"
     },
     "output_type": "display_data"
    }
   ],
   "source": [
    "display_loss([fremont_history]); display_accuracy([fremont_history])"
   ]
  },
  {
   "cell_type": "code",
   "execution_count": null,
   "id": "4e868f7d",
   "metadata": {},
   "outputs": [],
   "source": []
  },
  {
   "cell_type": "code",
   "execution_count": null,
   "id": "5f91b334",
   "metadata": {},
   "outputs": [],
   "source": []
  }
 ],
 "metadata": {
  "interpreter": {
   "hash": "48f8cb2c04e123a5f36026e83ef04ba8d8cb2e5b8983b92be00cf5b9b6813ba1"
  },
  "kernelspec": {
   "display_name": "Python 3 (ipykernel)",
   "language": "python",
   "name": "python3"
  },
  "language_info": {
   "codemirror_mode": {
    "name": "ipython",
    "version": 3
   },
   "file_extension": ".py",
   "mimetype": "text/x-python",
   "name": "python",
   "nbconvert_exporter": "python",
   "pygments_lexer": "ipython3",
   "version": "3.9.7"
  },
  "varInspector": {
   "cols": {
    "lenName": 16,
    "lenType": 16,
    "lenVar": 40
   },
   "kernels_config": {
    "python": {
     "delete_cmd_postfix": "",
     "delete_cmd_prefix": "del ",
     "library": "var_list.py",
     "varRefreshCmd": "print(var_dic_list())"
    },
    "r": {
     "delete_cmd_postfix": ") ",
     "delete_cmd_prefix": "rm(",
     "library": "var_list.r",
     "varRefreshCmd": "cat(var_dic_list()) "
    }
   },
   "types_to_exclude": [
    "module",
    "function",
    "builtin_function_or_method",
    "instance",
    "_Feature"
   ],
   "window_display": false
  }
 },
 "nbformat": 4,
 "nbformat_minor": 5
}
