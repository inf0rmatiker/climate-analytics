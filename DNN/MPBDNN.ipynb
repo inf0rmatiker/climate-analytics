{
 "cells": [
  {
   "cell_type": "code",
   "execution_count": 76,
   "id": "eb2498ec",
   "metadata": {
    "ExecuteTime": {
     "end_time": "2021-09-24T17:36:49.808776Z",
     "start_time": "2021-09-24T17:36:47.078490Z"
    }
   },
   "outputs": [
    {
     "name": "stdout",
     "output_type": "stream",
     "text": [
      "2.6.2\n",
      "Num GPUs Available:  1\n"
     ]
    }
   ],
   "source": [
    "import os\n",
    "os.environ['CUDA_VISIBLE_DEVICES'] = '1'\n",
    "\n",
    "import tensorflow as tf\n",
    "import keras_tuner as kt\n",
    "from tensorflow import keras\n",
    "\n",
    "print(tf. __version__) \n",
    "print(\"Num GPUs Available: \", len(tf.config.list_physical_devices('GPU')))\n",
    "\n",
    "import matplotlib.pyplot as plt\n",
    "import numpy as np\n",
    "import pandas as pd\n",
    "from sklearn.model_selection import train_test_split, KFold"
   ]
  },
  {
   "cell_type": "markdown",
   "id": "b9a3d43a",
   "metadata": {},
   "source": [
    "## Processing Data"
   ]
  },
  {
   "cell_type": "code",
   "execution_count": 77,
   "id": "182a2db3",
   "metadata": {},
   "outputs": [],
   "source": [
    "def get_features_and_target():\n",
    "    df = pd.read_csv(f'../output_dir/cypress_hill_mpb/mpb.csv')\n",
    "\n",
    "    feature = df['year'].values.reshape(-1, 1).astype('float32')\n",
    "    target = df['sum_of_mpb_infestations'].values.reshape(-1, 1).astype('float32')\n",
    "\n",
    "    feature_mean = np.mean(feature, axis=0)\n",
    "    feature_std = np.std(feature, axis=0)\n",
    "    feature_std[feature_std == 0] = 1\n",
    "\n",
    "    target_mean = np.mean(target, axis=0)\n",
    "    target_std = np.std(target, axis=0)\n",
    "    target_std[target_std == 0] = 1\n",
    "\n",
    "    feature = (feature - feature_mean) / feature_std\n",
    "    target = (target - target_mean) / target_std\n",
    "\n",
    "    return feature, target\n",
    "\n",
    "\n"
   ]
  },
  {
   "cell_type": "markdown",
   "id": "e8f1ccbe",
   "metadata": {},
   "source": [
    "## Model Building"
   ]
  },
  {
   "cell_type": "code",
   "execution_count": 120,
   "id": "b5e94625",
   "metadata": {},
   "outputs": [],
   "source": [
    "def kfold_model_train():\n",
    "    \n",
    "    # Model Configuration\n",
    "    models = []\n",
    "    model_histories = []\n",
    "    batch_size = 10\n",
    "    no_epochs = 100\n",
    "    num_folds = 5\n",
    "    optimizer = tf.keras.optimizers.Adam(learning_rate=0.01)\n",
    "    loss_function = 'mse'\n",
    "\n",
    "    feature, target = get_features_and_target()\n",
    "    \n",
    "    # Define the K-fold Cross Validator\n",
    "    loss_per_fold = []\n",
    "    kfold = KFold(n_splits=num_folds, shuffle=True)\n",
    "\n",
    "    # K-fold Cross Validation model evaluation\n",
    "    fold_no = 1\n",
    "    for train, test in kfold.split(feature, target):\n",
    "\n",
    "        # Define the model architecture\n",
    "        model = tf.keras.Sequential()\n",
    "        model.add(tf.keras.Input(shape=(1, )))\n",
    "        model.add(tf.keras.layers.Dense(10, activation='relu'))\n",
    "        model.add(tf.keras.layers.Dense(10, activation='relu'))\n",
    "        model.add(tf.keras.layers.Dense(1))\n",
    "\n",
    "        # Compile the model\n",
    "        model.compile(loss=loss_function,\n",
    "                    optimizer=optimizer)\n",
    "        # Generate a print\n",
    "        print('------------------------------------------------------------------------')\n",
    "        print(f'Training for fold {fold_no} ...')\n",
    "        \n",
    "        # Fit data to model\n",
    "        history = model.fit(feature[train], target[train],\n",
    "              batch_size=batch_size,\n",
    "              epochs=no_epochs,\n",
    "              verbose=0)\n",
    "        models.append(model)\n",
    "        model_histories.append(history)\n",
    "        \n",
    "        # Generate generalization metrics\n",
    "        score = model.evaluate(feature[test], target[test], verbose=0)\n",
    "        print(f'Score for fold {fold_no}: {model.metrics_names[0]} of {score}')\n",
    "        loss_per_fold.append(score)\n",
    "        \n",
    "        #Increase fold number \n",
    "        fold_no += 1\n",
    "        \n",
    "        # == Provide average scores ==\n",
    "        print('------------------------------------------------------------------------')\n",
    "        print('Score per fold')\n",
    "        for i in range(0, len(loss_per_fold)):\n",
    "            print('------------------------------------------------------------------------')\n",
    "            print(f'> Fold {i+1} - Loss: {loss_per_fold[i]}')\n",
    "        print('------------------------------------------------------------------------')\n",
    "        print('Average scores for all folds:')\n",
    "        print(f'> Loss: {np.mean(loss_per_fold)}')\n",
    "        print('------------------------------------------------------------------------')\n",
    "        \n",
    "\n",
    "        return models, model_histories\n",
    "        "
   ]
  },
  {
   "cell_type": "markdown",
   "id": "ebc1b2d3",
   "metadata": {},
   "source": [
    "## Graph Loss"
   ]
  },
  {
   "cell_type": "code",
   "execution_count": 121,
   "id": "de144264",
   "metadata": {},
   "outputs": [],
   "source": [
    "def graph_loss(model_history):\n",
    "\n",
    "    history = model_history.history\n",
    "\n",
    "    train_loss = history['loss']\n",
    "\n",
    "    plt.plot(train_loss, '-b', label='Training loss')\n",
    "\n",
    "    plt.title(\"MPB's Training Loss\")\n",
    "    plt.xlabel('Epochs')\n",
    "    plt.ylabel('Loss')\n",
    "    plt.legend()\n",
    "\n",
    "    plt.savefig(f'MPBLossGraph', bbox_inches='tight')\n",
    "    plt.show()\n",
    "    "
   ]
  },
  {
   "cell_type": "markdown",
   "id": "2df55dc8",
   "metadata": {},
   "source": [
    "## Running Experiment"
   ]
  },
  {
   "cell_type": "code",
   "execution_count": 122,
   "id": "3ad8ba99",
   "metadata": {},
   "outputs": [
    {
     "name": "stdout",
     "output_type": "stream",
     "text": [
      "------------------------------------------------------------------------\n",
      "Training for fold 1 ...\n"
     ]
    },
    {
     "name": "stderr",
     "output_type": "stream",
     "text": [
      "2021-12-01 12:09:24.936979: I tensorflow/core/grappler/optimizers/custom_graph_optimizer_registry.cc:112] Plugin optimizer for device_type GPU is enabled.\n"
     ]
    },
    {
     "name": "stdout",
     "output_type": "stream",
     "text": [
      "Score for fold 1: loss of 0.0634629875421524\n",
      "------------------------------------------------------------------------\n",
      "Score per fold\n",
      "------------------------------------------------------------------------\n",
      "> Fold 1 - Loss: 0.0634629875421524\n",
      "------------------------------------------------------------------------\n",
      "Average scores for all folds:\n",
      "> Loss: 0.0634629875421524\n",
      "------------------------------------------------------------------------\n"
     ]
    },
    {
     "name": "stderr",
     "output_type": "stream",
     "text": [
      "2021-12-01 12:09:25.370141: I tensorflow/core/grappler/optimizers/custom_graph_optimizer_registry.cc:112] Plugin optimizer for device_type GPU is enabled.\n"
     ]
    }
   ],
   "source": [
    "models, histories = kfold_model_train()"
   ]
  },
  {
   "cell_type": "code",
   "execution_count": 123,
   "id": "41a09e3e",
   "metadata": {},
   "outputs": [
    {
     "data": {
      "image/png": "[encoded data removed]",
      "text/plain": [
       "<Figure size 432x288 with 1 Axes>"
      ]
     },
     "metadata": {
      "needs_background": "light"
     },
     "output_type": "display_data"
    }
   ],
   "source": [
    "graph_loss(histories[0])"
   ]
  },
  {
   "cell_type": "code",
   "execution_count": null,
   "id": "f4f7eabf",
   "metadata": {},
   "outputs": [],
   "source": []
  }
 ],
 "metadata": {
  "interpreter": {
   "hash": "48f8cb2c04e123a5f36026e83ef04ba8d8cb2e5b8983b92be00cf5b9b6813ba1"
  },
  "kernelspec": {
   "display_name": "Python 3 (ipykernel)",
   "language": "python",
   "name": "python3"
  },
  "language_info": {
   "codemirror_mode": {
    "name": "ipython",
    "version": 3
   },
   "file_extension": ".py",
   "mimetype": "text/x-python",
   "name": "python",
   "nbconvert_exporter": "python",
   "pygments_lexer": "ipython3",
   "version": "3.9.7"
  },
  "varInspector": {
   "cols": {
    "lenName": 16,
    "lenType": 16,
    "lenVar": 40
   },
   "kernels_config": {
    "python": {
     "delete_cmd_postfix": "",
     "delete_cmd_prefix": "del ",
     "library": "var_list.py",
     "varRefreshCmd": "print(var_dic_list())"
    },
    "r": {
     "delete_cmd_postfix": ") ",
     "delete_cmd_prefix": "rm(",
     "library": "var_list.r",
     "varRefreshCmd": "cat(var_dic_list()) "
    }
   },
   "types_to_exclude": [
    "module",
    "function",
    "builtin_function_or_method",
    "instance",
    "_Feature"
   ],
   "window_display": false
  }
 },
 "nbformat": 4,
 "nbformat_minor": 5
}
